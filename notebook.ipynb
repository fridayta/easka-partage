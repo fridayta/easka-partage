{
 "cells": [
  {
   "cell_type": "markdown",
   "id": "ee6c5788-c840-43bf-98ff-7b8dd904ca5c",
   "metadata": {},
   "source": [
    "<img src=\"logo.png\"></img>"
   ]
  },
  {
   "cell_type": "markdown",
   "id": "4e902ff1-8d9b-4f85-be78-35aaddd6eabd",
   "metadata": {},
   "source": [
    "## Load data"
   ]
  },
  {
   "cell_type": "code",
   "execution_count": null,
   "id": "d38f7304-da5c-4972-94d8-80fe4e908344",
   "metadata": {},
   "outputs": [],
   "source": [
    "import pandas as pd\n",
    "\n",
    "common_columns = ['counter', 'start_time', 'end_time', 'user', 'vehicle', 'km_start', 'km_end', 'km', 'comments']\n",
    "v1_columns = common_columns + ['purpose', 'rebound', 'people', 'vehicle_counter', 'duration']\n",
    "v2_columns = common_columns + ['initial_start_time', 'initial_end_time', 'initial_shift']\n",
    "\n",
    "km_converter = lambda x: pd.to_numeric(x.removesuffix(' km'))\n",
    "common_converters = {\n",
    "    'km_start': km_converter,\n",
    "    'km_end': km_converter,\n",
    "    'km': km_converter,\n",
    "}\n",
    "\n",
    "v1_trips = pd.read_csv(\n",
    "    'v1_trips.csv',\n",
    "    header=3,\n",
    "    names=v1_columns,\n",
    "    converters=common_converters,\n",
    "    parse_dates=['start_time', 'end_time'],\n",
    "    date_format='%d/%m/%Y %H:%M:%S')\n",
    "v2_trips = pd.read_csv(\n",
    "    'v2_trips.csv',\n",
    "    header=3,\n",
    "    names=v2_columns,\n",
    "    converters=common_converters,\n",
    "    parse_dates=['start_time', 'end_time', 'initial_start_time', 'initial_end_time'],\n",
    "    date_format='%Y-%m-%d %H:%M:%S')\n",
    "\n",
    "trips = pd.concat([v1_trips, v2_trips])"
   ]
  },
  {
   "cell_type": "markdown",
   "id": "14670640-8098-47ee-817a-767d3f3c8100",
   "metadata": {},
   "source": [
    "## Compute"
   ]
  },
  {
   "cell_type": "code",
   "execution_count": null,
   "id": "f7d58ec5-0543-4c3b-9feb-9dbd03693201",
   "metadata": {},
   "outputs": [],
   "source": [
    "trips['duration'] = trips['end_time'] - trips['start_time']"
   ]
  },
  {
   "cell_type": "markdown",
   "id": "3abd8091-9330-47b0-8367-562dc2c0ffdb",
   "metadata": {},
   "source": [
    "## Statistics"
   ]
  },
  {
   "cell_type": "code",
   "execution_count": null,
   "id": "e2e7c8dd-c0d7-44f8-84b9-19ab79ff1d1f",
   "metadata": {},
   "outputs": [],
   "source": [
    "trips.describe()"
   ]
  }
 ],
 "metadata": {
  "kernelspec": {
   "display_name": "Python 3 (ipykernel)",
   "language": "python",
   "name": "python3"
  },
  "language_info": {
   "codemirror_mode": {
    "name": "ipython",
    "version": 3
   },
   "file_extension": ".py",
   "mimetype": "text/x-python",
   "name": "python",
   "nbconvert_exporter": "python",
   "pygments_lexer": "ipython3",
   "version": "3.13.7"
  }
 },
 "nbformat": 4,
 "nbformat_minor": 5
}
