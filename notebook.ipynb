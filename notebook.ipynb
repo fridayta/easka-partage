{
 "cells": [
  {
   "cell_type": "markdown",
   "id": "ee6c5788-c840-43bf-98ff-7b8dd904ca5c",
   "metadata": {},
   "source": [
    "<img src=\"logo.png\"></img>"
   ]
  },
  {
   "cell_type": "markdown",
   "id": "4e902ff1-8d9b-4f85-be78-35aaddd6eabd",
   "metadata": {},
   "source": [
    "## Load data"
   ]
  },
  {
   "cell_type": "code",
   "execution_count": null,
   "id": "d38f7304-da5c-4972-94d8-80fe4e908344",
   "metadata": {},
   "outputs": [],
   "source": [
    "import pandas as pd\n",
    "\n",
    "common_columns = ['counter', 'start_time', 'end_time', 'user', 'vehicle', 'km_start', 'km_end', 'km', 'comments']\n",
    "v1_columns = common_columns + ['purpose', 'rebound', 'people', 'vehicle_counter', 'duration']\n",
    "v2_columns = common_columns + ['initial_start_time', 'initial_end_time', 'initial_shift']\n",
    "\n",
    "v1_trips = pd.read_csv(\n",
    "    'v1_trips.csv',\n",
    "    header=3,\n",
    "    names=v1_columns,\n",
    "    parse_dates=['start_time', 'end_time'],\n",
    "    date_format='%d/%m/%Y %H:%M:%S')\n",
    "v2_trips = pd.read_csv(\n",
    "    'v2_trips.csv',\n",
    "    header=3,\n",
    "    names=v2_columns,\n",
    "    parse_dates=['start_time', 'end_time', 'initial_start_time', 'initial_end_time'],\n",
    "    date_format='%Y-%m-%d %H:%M:%S')\n",
    "\n",
    "trips = pd.concat([v1_trips, v2_trips])"
   ]
  }
 ],
 "metadata": {
  "kernelspec": {
   "display_name": "Python 3 (ipykernel)",
   "language": "python",
   "name": "python3"
  },
  "language_info": {
   "codemirror_mode": {
    "name": "ipython",
    "version": 3
   },
   "file_extension": ".py",
   "mimetype": "text/x-python",
   "name": "python",
   "nbconvert_exporter": "python",
   "pygments_lexer": "ipython3",
   "version": "3.13.7"
  }
 },
 "nbformat": 4,
 "nbformat_minor": 5
}
